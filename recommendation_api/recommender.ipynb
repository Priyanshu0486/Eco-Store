{
 "cells": [
  {
   "cell_type": "code",
   "execution_count": 45,
   "id": "9638bf7a",
   "metadata": {},
   "outputs": [],
   "source": [
    "import pandas as pd\n",
    "import numpy as np"
   ]
  },
  {
   "cell_type": "code",
   "execution_count": 46,
   "id": "c2877482",
   "metadata": {},
   "outputs": [
    {
     "data": {
      "text/html": [
       "<div>\n",
       "<style scoped>\n",
       "    .dataframe tbody tr th:only-of-type {\n",
       "        vertical-align: middle;\n",
       "    }\n",
       "\n",
       "    .dataframe tbody tr th {\n",
       "        vertical-align: top;\n",
       "    }\n",
       "\n",
       "    .dataframe thead th {\n",
       "        text-align: right;\n",
       "    }\n",
       "</style>\n",
       "<table border=\"1\" class=\"dataframe\">\n",
       "  <thead>\n",
       "    <tr style=\"text-align: right;\">\n",
       "      <th></th>\n",
       "      <th>user_id</th>\n",
       "      <th>product_id</th>\n",
       "      <th>product_name</th>\n",
       "      <th>brand</th>\n",
       "      <th>category</th>\n",
       "      <th>price</th>\n",
       "      <th>status</th>\n",
       "      <th>quantity</th>\n",
       "      <th>image_url</th>\n",
       "      <th>product_rating</th>\n",
       "      <th>total_review_count</th>\n",
       "      <th>date_added</th>\n",
       "      <th>carbon_footprint</th>\n",
       "      <th>sub_category</th>\n",
       "    </tr>\n",
       "  </thead>\n",
       "  <tbody>\n",
       "    <tr>\n",
       "      <th>0</th>\n",
       "      <td>UI0236</td>\n",
       "      <td>PI0001</td>\n",
       "      <td>IKEA GLADOM Tray Table (Rolling)</td>\n",
       "      <td>IKEA</td>\n",
       "      <td>Home &gt; Tables</td>\n",
       "      <td>1369.63</td>\n",
       "      <td>out of stock</td>\n",
       "      <td>41</td>\n",
       "      <td>https://www.ikea.com/sg/en/images/products/gla...</td>\n",
       "      <td>4.01</td>\n",
       "      <td>3019.0</td>\n",
       "      <td>02-09-2022</td>\n",
       "      <td>11.325</td>\n",
       "      <td>Tables</td>\n",
       "    </tr>\n",
       "    <tr>\n",
       "      <th>1</th>\n",
       "      <td>UI0086</td>\n",
       "      <td>PI0001</td>\n",
       "      <td>IKEA GLADOM Tray Table (Rolling)</td>\n",
       "      <td>IKEA</td>\n",
       "      <td>Home &gt; Tables</td>\n",
       "      <td>1369.63</td>\n",
       "      <td>out of stock</td>\n",
       "      <td>27</td>\n",
       "      <td>https://www.ikea.com/sg/en/images/products/gla...</td>\n",
       "      <td>3.69</td>\n",
       "      <td>3019.0</td>\n",
       "      <td>02-09-2022</td>\n",
       "      <td>11.325</td>\n",
       "      <td>Tables</td>\n",
       "    </tr>\n",
       "    <tr>\n",
       "      <th>2</th>\n",
       "      <td>UI0302</td>\n",
       "      <td>PI0002</td>\n",
       "      <td>Prestige Popular Induction Cooker (5Ã¢â¬Â¯L)</td>\n",
       "      <td>Prestige</td>\n",
       "      <td>Kitchen &gt; Pressure Cooker</td>\n",
       "      <td>2379.12</td>\n",
       "      <td>available</td>\n",
       "      <td>17</td>\n",
       "      <td>https://kingsmark.lk/wp-content/uploads/2024/0...</td>\n",
       "      <td>4.57</td>\n",
       "      <td>4163.0</td>\n",
       "      <td>15-08-2024</td>\n",
       "      <td>17.240</td>\n",
       "      <td>Pressure Cooker</td>\n",
       "    </tr>\n",
       "    <tr>\n",
       "      <th>3</th>\n",
       "      <td>UI0296</td>\n",
       "      <td>PI0003</td>\n",
       "      <td>H&amp;M Sporty Silicone Strap Watch (Black)</td>\n",
       "      <td>H&amp;M</td>\n",
       "      <td>Fashion &gt; Watches</td>\n",
       "      <td>264.94</td>\n",
       "      <td>available</td>\n",
       "      <td>42</td>\n",
       "      <td>https://www.titan.co.in/on/demandware.static/-...</td>\n",
       "      <td>3.39</td>\n",
       "      <td>2024.0</td>\n",
       "      <td>08-11-2023</td>\n",
       "      <td>8.910</td>\n",
       "      <td>Watches</td>\n",
       "    </tr>\n",
       "    <tr>\n",
       "      <th>4</th>\n",
       "      <td>UI0009</td>\n",
       "      <td>PI0004</td>\n",
       "      <td>Maybelline Clear Glow Oil Control Moisturizer</td>\n",
       "      <td>Maybelline</td>\n",
       "      <td>Beauty &gt; Moisturizers</td>\n",
       "      <td>916.12</td>\n",
       "      <td>out of stock</td>\n",
       "      <td>82</td>\n",
       "      <td>http://n1.sdlcdn.com/imgs/a/i/u/Maybelline-Cle...</td>\n",
       "      <td>3.72</td>\n",
       "      <td>3684.0</td>\n",
       "      <td>14-11-2022</td>\n",
       "      <td>12.890</td>\n",
       "      <td>Moisturizers</td>\n",
       "    </tr>\n",
       "  </tbody>\n",
       "</table>\n",
       "</div>"
      ],
      "text/plain": [
       "  user_id product_id                                   product_name  \\\n",
       "0  UI0236     PI0001               IKEA GLADOM Tray Table (Rolling)   \n",
       "1  UI0086     PI0001               IKEA GLADOM Tray Table (Rolling)   \n",
       "2  UI0302     PI0002  Prestige Popular Induction Cooker (5Ã¢â¬Â¯L)   \n",
       "3  UI0296     PI0003        H&M Sporty Silicone Strap Watch (Black)   \n",
       "4  UI0009     PI0004  Maybelline Clear Glow Oil Control Moisturizer   \n",
       "\n",
       "        brand                   category    price        status  quantity  \\\n",
       "0        IKEA              Home > Tables  1369.63  out of stock        41   \n",
       "1        IKEA              Home > Tables  1369.63  out of stock        27   \n",
       "2    Prestige  Kitchen > Pressure Cooker  2379.12     available        17   \n",
       "3         H&M          Fashion > Watches   264.94     available        42   \n",
       "4  Maybelline      Beauty > Moisturizers   916.12  out of stock        82   \n",
       "\n",
       "                                           image_url  product_rating  \\\n",
       "0  https://www.ikea.com/sg/en/images/products/gla...            4.01   \n",
       "1  https://www.ikea.com/sg/en/images/products/gla...            3.69   \n",
       "2  https://kingsmark.lk/wp-content/uploads/2024/0...            4.57   \n",
       "3  https://www.titan.co.in/on/demandware.static/-...            3.39   \n",
       "4  http://n1.sdlcdn.com/imgs/a/i/u/Maybelline-Cle...            3.72   \n",
       "\n",
       "   total_review_count  date_added  carbon_footprint     sub_category  \n",
       "0              3019.0  02-09-2022            11.325           Tables  \n",
       "1              3019.0  02-09-2022            11.325           Tables  \n",
       "2              4163.0  15-08-2024            17.240  Pressure Cooker  \n",
       "3              2024.0  08-11-2023             8.910          Watches  \n",
       "4              3684.0  14-11-2022            12.890     Moisturizers  "
      ]
     },
     "execution_count": 46,
     "metadata": {},
     "output_type": "execute_result"
    }
   ],
   "source": [
    "df=pd.read_csv('shuffled_users_by_subcategory.csv')\n",
    "df.head()"
   ]
  },
  {
   "cell_type": "code",
   "execution_count": null,
   "id": "566d250e",
   "metadata": {},
   "outputs": [],
   "source": []
  },
  {
   "cell_type": "code",
   "execution_count": null,
   "id": "016508b5",
   "metadata": {},
   "outputs": [],
   "source": []
  },
  {
   "cell_type": "code",
   "execution_count": null,
   "id": "0ca05a93",
   "metadata": {},
   "outputs": [],
   "source": []
  },
  {
   "cell_type": "code",
   "execution_count": null,
   "id": "cedef16a",
   "metadata": {},
   "outputs": [],
   "source": []
  },
  {
   "cell_type": "code",
   "execution_count": null,
   "id": "24940bab",
   "metadata": {},
   "outputs": [],
   "source": []
  },
  {
   "cell_type": "code",
   "execution_count": null,
   "id": "2c5f99eb",
   "metadata": {},
   "outputs": [],
   "source": []
  },
  {
   "cell_type": "code",
   "execution_count": null,
   "id": "53b7ac7d",
   "metadata": {},
   "outputs": [],
   "source": []
  },
  {
   "cell_type": "code",
   "execution_count": null,
   "id": "3f66bcff",
   "metadata": {},
   "outputs": [],
   "source": []
  },
  {
   "cell_type": "code",
   "execution_count": 47,
   "id": "db64294f",
   "metadata": {},
   "outputs": [],
   "source": [
    "req_df=df[['user_id','product_id','product_name','product_rating','category']]"
   ]
  },
  {
   "cell_type": "code",
   "execution_count": 48,
   "id": "316d5a68",
   "metadata": {},
   "outputs": [
    {
     "name": "stderr",
     "output_type": "stream",
     "text": [
      "C:\\Users\\ashut\\AppData\\Local\\Temp\\ipykernel_26144\\1411825854.py:1: SettingWithCopyWarning: \n",
      "A value is trying to be set on a copy of a slice from a DataFrame.\n",
      "Try using .loc[row_indexer,col_indexer] = value instead\n",
      "\n",
      "See the caveats in the documentation: https://pandas.pydata.org/pandas-docs/stable/user_guide/indexing.html#returning-a-view-versus-a-copy\n",
      "  req_df['user_id'] = req_df['user_id'].str.extract('(\\d+)', expand=False).astype(int)\n"
     ]
    }
   ],
   "source": [
    "req_df['user_id'] = req_df['user_id'].str.extract('(\\d+)', expand=False).astype(int)\n",
    "#req_df['product_id'] = req_df['product_id'].str.extract('(\\d+)', expand=False).astype(int)"
   ]
  },
  {
   "cell_type": "code",
   "execution_count": 49,
   "id": "5e368a49",
   "metadata": {},
   "outputs": [],
   "source": [
    "req_df.to_csv('clean_data.csv')"
   ]
  },
  {
   "cell_type": "code",
   "execution_count": 50,
   "id": "1ae4ad90",
   "metadata": {},
   "outputs": [
    {
     "data": {
      "text/html": [
       "<div>\n",
       "<style scoped>\n",
       "    .dataframe tbody tr th:only-of-type {\n",
       "        vertical-align: middle;\n",
       "    }\n",
       "\n",
       "    .dataframe tbody tr th {\n",
       "        vertical-align: top;\n",
       "    }\n",
       "\n",
       "    .dataframe thead th {\n",
       "        text-align: right;\n",
       "    }\n",
       "</style>\n",
       "<table border=\"1\" class=\"dataframe\">\n",
       "  <thead>\n",
       "    <tr style=\"text-align: right;\">\n",
       "      <th></th>\n",
       "      <th>user_id</th>\n",
       "      <th>product_id</th>\n",
       "      <th>product_name</th>\n",
       "      <th>product_rating</th>\n",
       "      <th>category</th>\n",
       "    </tr>\n",
       "  </thead>\n",
       "  <tbody>\n",
       "    <tr>\n",
       "      <th>0</th>\n",
       "      <td>236</td>\n",
       "      <td>PI0001</td>\n",
       "      <td>IKEA GLADOM Tray Table (Rolling)</td>\n",
       "      <td>4.01</td>\n",
       "      <td>Home &gt; Tables</td>\n",
       "    </tr>\n",
       "    <tr>\n",
       "      <th>1</th>\n",
       "      <td>86</td>\n",
       "      <td>PI0001</td>\n",
       "      <td>IKEA GLADOM Tray Table (Rolling)</td>\n",
       "      <td>3.69</td>\n",
       "      <td>Home &gt; Tables</td>\n",
       "    </tr>\n",
       "    <tr>\n",
       "      <th>2</th>\n",
       "      <td>302</td>\n",
       "      <td>PI0002</td>\n",
       "      <td>Prestige Popular Induction Cooker (5Ã¢â¬Â¯L)</td>\n",
       "      <td>4.57</td>\n",
       "      <td>Kitchen &gt; Pressure Cooker</td>\n",
       "    </tr>\n",
       "    <tr>\n",
       "      <th>3</th>\n",
       "      <td>296</td>\n",
       "      <td>PI0003</td>\n",
       "      <td>H&amp;M Sporty Silicone Strap Watch (Black)</td>\n",
       "      <td>3.39</td>\n",
       "      <td>Fashion &gt; Watches</td>\n",
       "    </tr>\n",
       "    <tr>\n",
       "      <th>4</th>\n",
       "      <td>9</td>\n",
       "      <td>PI0004</td>\n",
       "      <td>Maybelline Clear Glow Oil Control Moisturizer</td>\n",
       "      <td>3.72</td>\n",
       "      <td>Beauty &gt; Moisturizers</td>\n",
       "    </tr>\n",
       "    <tr>\n",
       "      <th>...</th>\n",
       "      <td>...</td>\n",
       "      <td>...</td>\n",
       "      <td>...</td>\n",
       "      <td>...</td>\n",
       "      <td>...</td>\n",
       "    </tr>\n",
       "    <tr>\n",
       "      <th>11730</th>\n",
       "      <td>608</td>\n",
       "      <td>PI0193</td>\n",
       "      <td>L'OrÃÂ©al Paris Revitalift Triple Power Day M...</td>\n",
       "      <td>3.51</td>\n",
       "      <td>Beauty &gt; Moisturizers</td>\n",
       "    </tr>\n",
       "    <tr>\n",
       "      <th>11731</th>\n",
       "      <td>159</td>\n",
       "      <td>PI0460</td>\n",
       "      <td>Canon imagePROGRAF PRO 310 Wide Format Printer</td>\n",
       "      <td>3.62</td>\n",
       "      <td>Electronics&gt;Electronics&gt;Office &gt; Printers</td>\n",
       "    </tr>\n",
       "    <tr>\n",
       "      <th>11732</th>\n",
       "      <td>479</td>\n",
       "      <td>PI0400</td>\n",
       "      <td>Zara Sporty Rubber Strap Watch (Blue)</td>\n",
       "      <td>4.33</td>\n",
       "      <td>Fashion &gt; Watches</td>\n",
       "    </tr>\n",
       "    <tr>\n",
       "      <th>11733</th>\n",
       "      <td>605</td>\n",
       "      <td>PI0083</td>\n",
       "      <td>Samsung The Frame 2025 55Ã¢â¬Â³</td>\n",
       "      <td>3.17</td>\n",
       "      <td>Electronics &gt; TVs</td>\n",
       "    </tr>\n",
       "    <tr>\n",
       "      <th>11734</th>\n",
       "      <td>378</td>\n",
       "      <td>PI0542</td>\n",
       "      <td>Nykaa Naturals Rosemary &amp; Keratin Deep Moistur...</td>\n",
       "      <td>4.09</td>\n",
       "      <td>Beauty &gt; Shampoo</td>\n",
       "    </tr>\n",
       "  </tbody>\n",
       "</table>\n",
       "<p>11735 rows × 5 columns</p>\n",
       "</div>"
      ],
      "text/plain": [
       "       user_id product_id                                       product_name  \\\n",
       "0          236     PI0001                   IKEA GLADOM Tray Table (Rolling)   \n",
       "1           86     PI0001                   IKEA GLADOM Tray Table (Rolling)   \n",
       "2          302     PI0002      Prestige Popular Induction Cooker (5Ã¢â¬Â¯L)   \n",
       "3          296     PI0003            H&M Sporty Silicone Strap Watch (Black)   \n",
       "4            9     PI0004      Maybelline Clear Glow Oil Control Moisturizer   \n",
       "...        ...        ...                                                ...   \n",
       "11730      608     PI0193  L'OrÃÂ©al Paris Revitalift Triple Power Day M...   \n",
       "11731      159     PI0460     Canon imagePROGRAF PRO 310 Wide Format Printer   \n",
       "11732      479     PI0400              Zara Sporty Rubber Strap Watch (Blue)   \n",
       "11733      605     PI0083                   Samsung The Frame 2025 55Ã¢â¬Â³   \n",
       "11734      378     PI0542  Nykaa Naturals Rosemary & Keratin Deep Moistur...   \n",
       "\n",
       "       product_rating                                   category  \n",
       "0                4.01                              Home > Tables  \n",
       "1                3.69                              Home > Tables  \n",
       "2                4.57                  Kitchen > Pressure Cooker  \n",
       "3                3.39                          Fashion > Watches  \n",
       "4                3.72                      Beauty > Moisturizers  \n",
       "...               ...                                        ...  \n",
       "11730            3.51                      Beauty > Moisturizers  \n",
       "11731            3.62  Electronics>Electronics>Office > Printers  \n",
       "11732            4.33                          Fashion > Watches  \n",
       "11733            3.17                          Electronics > TVs  \n",
       "11734            4.09                           Beauty > Shampoo  \n",
       "\n",
       "[11735 rows x 5 columns]"
      ]
     },
     "execution_count": 50,
     "metadata": {},
     "output_type": "execute_result"
    }
   ],
   "source": [
    "req_df"
   ]
  },
  {
   "cell_type": "code",
   "execution_count": 51,
   "id": "0765f714",
   "metadata": {},
   "outputs": [],
   "source": [
    "pt=req_df.pivot_table(index='product_name',columns='user_id',values='product_rating',aggfunc='mean').fillna(0).astype(int)"
   ]
  },
  {
   "cell_type": "code",
   "execution_count": 52,
   "id": "56e6266d",
   "metadata": {},
   "outputs": [
    {
     "data": {
      "text/html": [
       "<div>\n",
       "<style scoped>\n",
       "    .dataframe tbody tr th:only-of-type {\n",
       "        vertical-align: middle;\n",
       "    }\n",
       "\n",
       "    .dataframe tbody tr th {\n",
       "        vertical-align: top;\n",
       "    }\n",
       "\n",
       "    .dataframe thead th {\n",
       "        text-align: right;\n",
       "    }\n",
       "</style>\n",
       "<table border=\"1\" class=\"dataframe\">\n",
       "  <thead>\n",
       "    <tr style=\"text-align: right;\">\n",
       "      <th>user_id</th>\n",
       "      <th>1</th>\n",
       "      <th>2</th>\n",
       "      <th>3</th>\n",
       "      <th>4</th>\n",
       "      <th>5</th>\n",
       "      <th>6</th>\n",
       "      <th>7</th>\n",
       "      <th>8</th>\n",
       "      <th>9</th>\n",
       "      <th>10</th>\n",
       "      <th>...</th>\n",
       "      <th>692</th>\n",
       "      <th>693</th>\n",
       "      <th>694</th>\n",
       "      <th>695</th>\n",
       "      <th>696</th>\n",
       "      <th>697</th>\n",
       "      <th>698</th>\n",
       "      <th>699</th>\n",
       "      <th>700</th>\n",
       "      <th>701</th>\n",
       "    </tr>\n",
       "    <tr>\n",
       "      <th>product_name</th>\n",
       "      <th></th>\n",
       "      <th></th>\n",
       "      <th></th>\n",
       "      <th></th>\n",
       "      <th></th>\n",
       "      <th></th>\n",
       "      <th></th>\n",
       "      <th></th>\n",
       "      <th></th>\n",
       "      <th></th>\n",
       "      <th></th>\n",
       "      <th></th>\n",
       "      <th></th>\n",
       "      <th></th>\n",
       "      <th></th>\n",
       "      <th></th>\n",
       "      <th></th>\n",
       "      <th></th>\n",
       "      <th></th>\n",
       "      <th></th>\n",
       "      <th></th>\n",
       "    </tr>\n",
       "  </thead>\n",
       "  <tbody>\n",
       "    <tr>\n",
       "      <th>Adidas Campus 80s</th>\n",
       "      <td>0</td>\n",
       "      <td>0</td>\n",
       "      <td>0</td>\n",
       "      <td>0</td>\n",
       "      <td>0</td>\n",
       "      <td>0</td>\n",
       "      <td>0</td>\n",
       "      <td>0</td>\n",
       "      <td>0</td>\n",
       "      <td>0</td>\n",
       "      <td>...</td>\n",
       "      <td>0</td>\n",
       "      <td>0</td>\n",
       "      <td>0</td>\n",
       "      <td>0</td>\n",
       "      <td>0</td>\n",
       "      <td>0</td>\n",
       "      <td>0</td>\n",
       "      <td>0</td>\n",
       "      <td>0</td>\n",
       "      <td>0</td>\n",
       "    </tr>\n",
       "    <tr>\n",
       "      <th>Adidas Classic 3S 5 Laptop Backpack</th>\n",
       "      <td>0</td>\n",
       "      <td>0</td>\n",
       "      <td>0</td>\n",
       "      <td>0</td>\n",
       "      <td>0</td>\n",
       "      <td>0</td>\n",
       "      <td>0</td>\n",
       "      <td>0</td>\n",
       "      <td>0</td>\n",
       "      <td>0</td>\n",
       "      <td>...</td>\n",
       "      <td>0</td>\n",
       "      <td>0</td>\n",
       "      <td>0</td>\n",
       "      <td>0</td>\n",
       "      <td>0</td>\n",
       "      <td>0</td>\n",
       "      <td>0</td>\n",
       "      <td>4</td>\n",
       "      <td>0</td>\n",
       "      <td>0</td>\n",
       "    </tr>\n",
       "    <tr>\n",
       "      <th>Adidas Defender Duffel Bag</th>\n",
       "      <td>0</td>\n",
       "      <td>0</td>\n",
       "      <td>0</td>\n",
       "      <td>0</td>\n",
       "      <td>0</td>\n",
       "      <td>0</td>\n",
       "      <td>0</td>\n",
       "      <td>0</td>\n",
       "      <td>0</td>\n",
       "      <td>0</td>\n",
       "      <td>...</td>\n",
       "      <td>0</td>\n",
       "      <td>0</td>\n",
       "      <td>0</td>\n",
       "      <td>0</td>\n",
       "      <td>0</td>\n",
       "      <td>0</td>\n",
       "      <td>0</td>\n",
       "      <td>0</td>\n",
       "      <td>0</td>\n",
       "      <td>0</td>\n",
       "    </tr>\n",
       "    <tr>\n",
       "      <th>Adidas Essentials Sling Bag</th>\n",
       "      <td>0</td>\n",
       "      <td>0</td>\n",
       "      <td>0</td>\n",
       "      <td>0</td>\n",
       "      <td>0</td>\n",
       "      <td>0</td>\n",
       "      <td>0</td>\n",
       "      <td>0</td>\n",
       "      <td>0</td>\n",
       "      <td>0</td>\n",
       "      <td>...</td>\n",
       "      <td>0</td>\n",
       "      <td>0</td>\n",
       "      <td>0</td>\n",
       "      <td>0</td>\n",
       "      <td>0</td>\n",
       "      <td>0</td>\n",
       "      <td>0</td>\n",
       "      <td>0</td>\n",
       "      <td>0</td>\n",
       "      <td>0</td>\n",
       "    </tr>\n",
       "    <tr>\n",
       "      <th>Adidas NMD_R1</th>\n",
       "      <td>0</td>\n",
       "      <td>0</td>\n",
       "      <td>0</td>\n",
       "      <td>0</td>\n",
       "      <td>0</td>\n",
       "      <td>0</td>\n",
       "      <td>0</td>\n",
       "      <td>0</td>\n",
       "      <td>0</td>\n",
       "      <td>0</td>\n",
       "      <td>...</td>\n",
       "      <td>0</td>\n",
       "      <td>0</td>\n",
       "      <td>0</td>\n",
       "      <td>0</td>\n",
       "      <td>0</td>\n",
       "      <td>0</td>\n",
       "      <td>0</td>\n",
       "      <td>0</td>\n",
       "      <td>0</td>\n",
       "      <td>0</td>\n",
       "    </tr>\n",
       "    <tr>\n",
       "      <th>...</th>\n",
       "      <td>...</td>\n",
       "      <td>...</td>\n",
       "      <td>...</td>\n",
       "      <td>...</td>\n",
       "      <td>...</td>\n",
       "      <td>...</td>\n",
       "      <td>...</td>\n",
       "      <td>...</td>\n",
       "      <td>...</td>\n",
       "      <td>...</td>\n",
       "      <td>...</td>\n",
       "      <td>...</td>\n",
       "      <td>...</td>\n",
       "      <td>...</td>\n",
       "      <td>...</td>\n",
       "      <td>...</td>\n",
       "      <td>...</td>\n",
       "      <td>...</td>\n",
       "      <td>...</td>\n",
       "      <td>...</td>\n",
       "      <td>...</td>\n",
       "    </tr>\n",
       "    <tr>\n",
       "      <th>iPhone 16</th>\n",
       "      <td>0</td>\n",
       "      <td>0</td>\n",
       "      <td>0</td>\n",
       "      <td>0</td>\n",
       "      <td>0</td>\n",
       "      <td>0</td>\n",
       "      <td>0</td>\n",
       "      <td>0</td>\n",
       "      <td>0</td>\n",
       "      <td>0</td>\n",
       "      <td>...</td>\n",
       "      <td>0</td>\n",
       "      <td>0</td>\n",
       "      <td>0</td>\n",
       "      <td>3</td>\n",
       "      <td>0</td>\n",
       "      <td>0</td>\n",
       "      <td>0</td>\n",
       "      <td>0</td>\n",
       "      <td>0</td>\n",
       "      <td>0</td>\n",
       "    </tr>\n",
       "    <tr>\n",
       "      <th>iPhone 16 Pro</th>\n",
       "      <td>0</td>\n",
       "      <td>0</td>\n",
       "      <td>0</td>\n",
       "      <td>0</td>\n",
       "      <td>0</td>\n",
       "      <td>0</td>\n",
       "      <td>3</td>\n",
       "      <td>0</td>\n",
       "      <td>0</td>\n",
       "      <td>0</td>\n",
       "      <td>...</td>\n",
       "      <td>0</td>\n",
       "      <td>0</td>\n",
       "      <td>0</td>\n",
       "      <td>0</td>\n",
       "      <td>0</td>\n",
       "      <td>0</td>\n",
       "      <td>0</td>\n",
       "      <td>0</td>\n",
       "      <td>0</td>\n",
       "      <td>0</td>\n",
       "    </tr>\n",
       "    <tr>\n",
       "      <th>iPhone 16 Pro Max</th>\n",
       "      <td>0</td>\n",
       "      <td>0</td>\n",
       "      <td>0</td>\n",
       "      <td>0</td>\n",
       "      <td>0</td>\n",
       "      <td>0</td>\n",
       "      <td>0</td>\n",
       "      <td>0</td>\n",
       "      <td>0</td>\n",
       "      <td>0</td>\n",
       "      <td>...</td>\n",
       "      <td>0</td>\n",
       "      <td>0</td>\n",
       "      <td>0</td>\n",
       "      <td>0</td>\n",
       "      <td>0</td>\n",
       "      <td>0</td>\n",
       "      <td>0</td>\n",
       "      <td>0</td>\n",
       "      <td>0</td>\n",
       "      <td>0</td>\n",
       "    </tr>\n",
       "    <tr>\n",
       "      <th>iPhone SE (2025)</th>\n",
       "      <td>0</td>\n",
       "      <td>0</td>\n",
       "      <td>0</td>\n",
       "      <td>0</td>\n",
       "      <td>0</td>\n",
       "      <td>0</td>\n",
       "      <td>0</td>\n",
       "      <td>0</td>\n",
       "      <td>0</td>\n",
       "      <td>0</td>\n",
       "      <td>...</td>\n",
       "      <td>0</td>\n",
       "      <td>0</td>\n",
       "      <td>0</td>\n",
       "      <td>0</td>\n",
       "      <td>0</td>\n",
       "      <td>0</td>\n",
       "      <td>0</td>\n",
       "      <td>0</td>\n",
       "      <td>0</td>\n",
       "      <td>0</td>\n",
       "    </tr>\n",
       "    <tr>\n",
       "      <th>standard iPad (10th Gen)</th>\n",
       "      <td>0</td>\n",
       "      <td>0</td>\n",
       "      <td>0</td>\n",
       "      <td>0</td>\n",
       "      <td>0</td>\n",
       "      <td>0</td>\n",
       "      <td>0</td>\n",
       "      <td>0</td>\n",
       "      <td>0</td>\n",
       "      <td>0</td>\n",
       "      <td>...</td>\n",
       "      <td>0</td>\n",
       "      <td>0</td>\n",
       "      <td>0</td>\n",
       "      <td>0</td>\n",
       "      <td>0</td>\n",
       "      <td>0</td>\n",
       "      <td>0</td>\n",
       "      <td>0</td>\n",
       "      <td>0</td>\n",
       "      <td>0</td>\n",
       "    </tr>\n",
       "  </tbody>\n",
       "</table>\n",
       "<p>600 rows × 701 columns</p>\n",
       "</div>"
      ],
      "text/plain": [
       "user_id                              1    2    3    4    5    6    7    8    \\\n",
       "product_name                                                                  \n",
       "Adidas Campus 80s                      0    0    0    0    0    0    0    0   \n",
       "Adidas Classic 3S 5 Laptop Backpack    0    0    0    0    0    0    0    0   \n",
       "Adidas Defender Duffel Bag             0    0    0    0    0    0    0    0   \n",
       "Adidas Essentials Sling Bag            0    0    0    0    0    0    0    0   \n",
       "Adidas NMD_R1                          0    0    0    0    0    0    0    0   \n",
       "...                                  ...  ...  ...  ...  ...  ...  ...  ...   \n",
       "iPhone 16                              0    0    0    0    0    0    0    0   \n",
       "iPhone 16 Pro                          0    0    0    0    0    0    3    0   \n",
       "iPhone 16 Pro Max                      0    0    0    0    0    0    0    0   \n",
       "iPhone SE (2025)                       0    0    0    0    0    0    0    0   \n",
       "standard iPad (10th Gen)               0    0    0    0    0    0    0    0   \n",
       "\n",
       "user_id                              9    10   ...  692  693  694  695  696  \\\n",
       "product_name                                   ...                            \n",
       "Adidas Campus 80s                      0    0  ...    0    0    0    0    0   \n",
       "Adidas Classic 3S 5 Laptop Backpack    0    0  ...    0    0    0    0    0   \n",
       "Adidas Defender Duffel Bag             0    0  ...    0    0    0    0    0   \n",
       "Adidas Essentials Sling Bag            0    0  ...    0    0    0    0    0   \n",
       "Adidas NMD_R1                          0    0  ...    0    0    0    0    0   \n",
       "...                                  ...  ...  ...  ...  ...  ...  ...  ...   \n",
       "iPhone 16                              0    0  ...    0    0    0    3    0   \n",
       "iPhone 16 Pro                          0    0  ...    0    0    0    0    0   \n",
       "iPhone 16 Pro Max                      0    0  ...    0    0    0    0    0   \n",
       "iPhone SE (2025)                       0    0  ...    0    0    0    0    0   \n",
       "standard iPad (10th Gen)               0    0  ...    0    0    0    0    0   \n",
       "\n",
       "user_id                              697  698  699  700  701  \n",
       "product_name                                                  \n",
       "Adidas Campus 80s                      0    0    0    0    0  \n",
       "Adidas Classic 3S 5 Laptop Backpack    0    0    4    0    0  \n",
       "Adidas Defender Duffel Bag             0    0    0    0    0  \n",
       "Adidas Essentials Sling Bag            0    0    0    0    0  \n",
       "Adidas NMD_R1                          0    0    0    0    0  \n",
       "...                                  ...  ...  ...  ...  ...  \n",
       "iPhone 16                              0    0    0    0    0  \n",
       "iPhone 16 Pro                          0    0    0    0    0  \n",
       "iPhone 16 Pro Max                      0    0    0    0    0  \n",
       "iPhone SE (2025)                       0    0    0    0    0  \n",
       "standard iPad (10th Gen)               0    0    0    0    0  \n",
       "\n",
       "[600 rows x 701 columns]"
      ]
     },
     "execution_count": 52,
     "metadata": {},
     "output_type": "execute_result"
    }
   ],
   "source": [
    "pt"
   ]
  },
  {
   "cell_type": "code",
   "execution_count": 53,
   "id": "4cbd55c2",
   "metadata": {},
   "outputs": [],
   "source": [
    "from sklearn.metrics.pairwise import cosine_similarity"
   ]
  },
  {
   "cell_type": "code",
   "execution_count": 54,
   "id": "eb8f1279",
   "metadata": {},
   "outputs": [],
   "source": [
    "similarity_scores=cosine_similarity(pt)"
   ]
  },
  {
   "cell_type": "code",
   "execution_count": 55,
   "id": "c38fdc8a",
   "metadata": {},
   "outputs": [
    {
     "data": {
      "text/plain": [
       "array([1.        , 0.        , 0.        , 0.        , 0.        ,\n",
       "       0.        , 0.        , 0.        , 0.        , 0.        ,\n",
       "       0.04640821, 0.        , 0.        , 0.04260143, 0.        ,\n",
       "       0.07347184, 0.17342199, 0.        , 0.04055536, 0.        ,\n",
       "       0.        , 0.05458155, 0.        , 0.        , 0.04055536,\n",
       "       0.        , 0.        , 0.        , 0.03857225, 0.03934447,\n",
       "       0.        , 0.        , 0.06622662, 0.        , 0.        ,\n",
       "       0.0489116 , 0.        , 0.        , 0.05263158, 0.05129892,\n",
       "       0.        , 0.        , 0.        , 0.        , 0.05735393,\n",
       "       0.        , 0.        , 0.06362848, 0.05006262, 0.10012523,\n",
       "       0.        , 0.07647191, 0.05407381, 0.04682929, 0.        ,\n",
       "       0.06131393, 0.        , 0.        , 0.        , 0.        ,\n",
       "       0.        , 0.        , 0.        , 0.0978232 , 0.05129892,\n",
       "       0.        , 0.        , 0.        , 0.        , 0.        ,\n",
       "       0.10526316, 0.        , 0.05735393, 0.        , 0.        ,\n",
       "       0.        , 0.        , 0.05735393, 0.        , 0.        ,\n",
       "       0.06362848, 0.04682929, 0.08520286, 0.05129892, 0.        ,\n",
       "       0.        , 0.05129892, 0.        , 0.        , 0.        ,\n",
       "       0.08029551, 0.        , 0.        , 0.08029551, 0.03627381,\n",
       "       0.        , 0.11470787, 0.04738791, 0.03721615, 0.        ,\n",
       "       0.03338489, 0.02809757, 0.        , 0.03003757, 0.        ,\n",
       "       0.        , 0.03029839, 0.04103913, 0.03771571, 0.08696491,\n",
       "       0.        , 0.        , 0.        , 0.10526316, 0.        ,\n",
       "       0.        , 0.05407381, 0.        , 0.        , 0.        ,\n",
       "       0.        , 0.08830216, 0.06131393, 0.        , 0.        ,\n",
       "       0.10259784, 0.06131393, 0.        , 0.04783649, 0.06622662,\n",
       "       0.        , 0.        , 0.        , 0.06131393, 0.        ,\n",
       "       0.        , 0.        , 0.05735393, 0.05407381, 0.06917145,\n",
       "       0.13245324, 0.        , 0.11128298, 0.05564149, 0.04682929,\n",
       "       0.03673592, 0.07543143, 0.04188539, 0.        , 0.04150287,\n",
       "       0.03817709, 0.06806327, 0.        , 0.        , 0.03993615,\n",
       "       0.0580381 , 0.04055536, 0.03244428, 0.        , 0.        ,\n",
       "       0.07987231, 0.03029839, 0.03881301, 0.        , 0.        ,\n",
       "       0.06622662, 0.        , 0.05407381, 0.        , 0.        ,\n",
       "       0.06847624, 0.        , 0.        , 0.03721615, 0.        ,\n",
       "       0.15579617, 0.16872048, 0.04352858, 0.07254763, 0.        ,\n",
       "       0.06622662, 0.04682929, 0.        , 0.        , 0.        ,\n",
       "       0.        , 0.04682929, 0.03993615, 0.03458572, 0.        ,\n",
       "       0.05923489, 0.05564149, 0.05263158, 0.        , 0.        ,\n",
       "       0.        , 0.05263158, 0.        , 0.        , 0.        ,\n",
       "       0.        , 0.        , 0.        , 0.        , 0.06131393,\n",
       "       0.        , 0.05006262, 0.        , 0.        , 0.        ,\n",
       "       0.05407381, 0.        , 0.06917145, 0.        , 0.05263158,\n",
       "       0.04055536, 0.        , 0.06131393, 0.        , 0.        ,\n",
       "       0.04783649, 0.        , 0.        , 0.        , 0.        ,\n",
       "       0.        , 0.        , 0.        , 0.        , 0.04682929,\n",
       "       0.05263158, 0.05564149, 0.06917145, 0.        , 0.10814761,\n",
       "       0.        , 0.05129892, 0.        , 0.06622662, 0.        ,\n",
       "       0.        , 0.10012523, 0.05006262, 0.        , 0.        ,\n",
       "       0.        , 0.05407381, 0.        , 0.        , 0.        ,\n",
       "       0.        , 0.        , 0.        , 0.        , 0.05407381,\n",
       "       0.        , 0.        , 0.        , 0.        , 0.        ,\n",
       "       0.        , 0.        , 0.05129892, 0.12725695, 0.        ,\n",
       "       0.05564149, 0.        , 0.        , 0.05129892, 0.04783649,\n",
       "       0.        , 0.06622662, 0.        , 0.        , 0.04682929,\n",
       "       0.        , 0.05564149, 0.05129892, 0.        , 0.        ,\n",
       "       0.05735393, 0.        , 0.05407381, 0.05735393, 0.        ,\n",
       "       0.05263158, 0.13834289, 0.        , 0.06131393, 0.        ,\n",
       "       0.        , 0.05006262, 0.        , 0.11470787, 0.06362848,\n",
       "       0.        , 0.05564149, 0.        , 0.06622662, 0.        ,\n",
       "       0.        , 0.        , 0.        , 0.086711  , 0.        ,\n",
       "       0.        , 0.05735393, 0.        , 0.07647191, 0.        ,\n",
       "       0.        , 0.06622662, 0.        , 0.        , 0.05923489,\n",
       "       0.        , 0.        , 0.10012523, 0.05407381, 0.        ,\n",
       "       0.        , 0.        , 0.05564149, 0.        , 0.05564149,\n",
       "       0.        , 0.        , 0.        , 0.        , 0.        ,\n",
       "       0.15389675, 0.        , 0.        , 0.        , 0.        ,\n",
       "       0.11128298, 0.        , 0.05263158, 0.        , 0.        ,\n",
       "       0.        , 0.04783649, 0.        , 0.        , 0.        ,\n",
       "       0.        , 0.06917145, 0.        , 0.        , 0.10526316,\n",
       "       0.        , 0.        , 0.05923489, 0.04499213, 0.        ,\n",
       "       0.        , 0.        , 0.        , 0.        , 0.        ,\n",
       "       0.        , 0.11846978, 0.        , 0.        , 0.        ,\n",
       "       0.06362848, 0.        , 0.        , 0.        , 0.05923489,\n",
       "       0.        , 0.        , 0.        , 0.05735393, 0.        ,\n",
       "       0.06131393, 0.        , 0.        , 0.        , 0.06131393,\n",
       "       0.11470787, 0.        , 0.06362848, 0.0489116 , 0.        ,\n",
       "       0.        , 0.        , 0.06131393, 0.        , 0.        ,\n",
       "       0.        , 0.        , 0.        , 0.05263158, 0.05263158,\n",
       "       0.        , 0.        , 0.04783649, 0.        , 0.        ,\n",
       "       0.06362848, 0.        , 0.05735393, 0.        , 0.05564149,\n",
       "       0.        , 0.        , 0.05735393, 0.        , 0.        ,\n",
       "       0.0489116 , 0.06917145, 0.        , 0.        , 0.05129892,\n",
       "       0.        , 0.        , 0.        , 0.        , 0.        ,\n",
       "       0.        , 0.12262787, 0.05129892, 0.05564149, 0.        ,\n",
       "       0.        , 0.0978232 , 0.        , 0.        , 0.        ,\n",
       "       0.        , 0.        , 0.        , 0.        , 0.05564149,\n",
       "       0.        , 0.        , 0.05006262, 0.        , 0.        ,\n",
       "       0.        , 0.07254763, 0.        , 0.        , 0.        ,\n",
       "       0.        , 0.        , 0.        , 0.        , 0.05923489,\n",
       "       0.06622662, 0.        , 0.        , 0.        , 0.05564149,\n",
       "       0.        , 0.        , 0.        , 0.        , 0.05129892,\n",
       "       0.05735393, 0.        , 0.        , 0.        , 0.05923489,\n",
       "       0.12725695, 0.        , 0.04783649, 0.        , 0.05735393,\n",
       "       0.05735393, 0.05263158, 0.        , 0.        , 0.05735393,\n",
       "       0.15018785, 0.05735393, 0.15018785, 0.        , 0.        ,\n",
       "       0.0489116 , 0.        , 0.        , 0.        , 0.        ,\n",
       "       0.        , 0.05923489, 0.        , 0.09365858, 0.06362848,\n",
       "       0.05407381, 0.05735393, 0.04588315, 0.        , 0.14350946,\n",
       "       0.        , 0.        , 0.        , 0.0489116 , 0.        ,\n",
       "       0.        , 0.        , 0.        , 0.05006262, 0.05006262,\n",
       "       0.        , 0.        , 0.        , 0.        , 0.11470787,\n",
       "       0.        , 0.06622662, 0.        , 0.        , 0.06131393,\n",
       "       0.        , 0.        , 0.05923489, 0.        , 0.        ,\n",
       "       0.        , 0.        , 0.07647191, 0.        , 0.        ,\n",
       "       0.05407381, 0.05006262, 0.03670652, 0.03934447, 0.03277368,\n",
       "       0.        , 0.04055536, 0.        , 0.        , 0.07024394,\n",
       "       0.07357672, 0.        , 0.07353078, 0.02959006, 0.08787149,\n",
       "       0.04120428, 0.07755667, 0.05821951, 0.        , 0.        ,\n",
       "       0.04499213, 0.        , 0.        , 0.05263158, 0.        ,\n",
       "       0.        , 0.        , 0.        , 0.        , 0.05129892,\n",
       "       0.        , 0.        , 0.        , 0.06917145, 0.14509525,\n",
       "       0.13834289, 0.        , 0.        , 0.        , 0.        ,\n",
       "       0.05564149, 0.08998425, 0.        , 0.06362848, 0.05923489,\n",
       "       0.        , 0.06131393, 0.        , 0.        , 0.        ,\n",
       "       0.        , 0.        , 0.09567297, 0.06622662, 0.        ,\n",
       "       0.        , 0.04682929, 0.        , 0.05735393, 0.        ,\n",
       "       0.10814761, 0.        , 0.05735393, 0.        , 0.        ,\n",
       "       0.        , 0.        , 0.        , 0.07254763, 0.        ,\n",
       "       0.04499213, 0.        , 0.05129892, 0.        , 0.        ])"
      ]
     },
     "execution_count": 55,
     "metadata": {},
     "output_type": "execute_result"
    }
   ],
   "source": [
    "similarity_scores[0]"
   ]
  },
  {
   "cell_type": "code",
   "execution_count": 56,
   "id": "944176e6",
   "metadata": {},
   "outputs": [
    {
     "data": {
      "text/plain": [
       "596"
      ]
     },
     "execution_count": 56,
     "metadata": {},
     "output_type": "execute_result"
    }
   ],
   "source": [
    "np.where(pt.index==\"iPhone 16 Pro\")[0][0]"
   ]
  },
  {
   "cell_type": "code",
   "execution_count": 57,
   "id": "5e27f07b",
   "metadata": {},
   "outputs": [],
   "source": [
    "def recommender(item_name):\n",
    "    index=np.where(pt.index==item_name)[0][0]\n",
    "    p_category=df[df['product_name'] == item_name]['sub_category'].iloc[0].split()[0:2]\n",
    "    distance=similarity_scores[index]\n",
    "    similar_items= sorted(list(enumerate(similarity_scores[index])),key=lambda x:x[1],reverse=True )[1:100]\n",
    "    for i in similar_items:\n",
    "        name=pt.index[i[0]]\n",
    "        if p_category== df[df['product_name'] == name]['sub_category'].iloc[0].split()[0:2]:\n",
    "            print(name)\n"
   ]
  },
  {
   "cell_type": "code",
   "execution_count": 58,
   "id": "05827fc7",
   "metadata": {},
   "outputs": [],
   "source": [
    "def collaborative_recommender(product_id):\n",
    "    product_list=[]\n",
    "    item_name=df[df['product_id'] == product_id]['product_name'].iloc[0]\n",
    "    index=np.where(pt.index==item_name)[0][0]\n",
    "    p_category=df[df['product_name'] == item_name]['category'].iloc[0].split()[0:2]\n",
    "    distance=similarity_scores[index]\n",
    "    similar_items= sorted(list(enumerate(distance)),key=lambda x:x[1],reverse=True )[1:100]\n",
    "    for i in similar_items:\n",
    "        name=pt.index[i[0]]\n",
    "        prod_id= df[df['product_name'] == name]['product_id'].iloc[0]\n",
    "        if p_category== df[df['product_name'] == name]['category'].iloc[0].split()[0:2]:\n",
    "            product_list.append(prod_id)\n",
    "    return product_list[0:11]"
   ]
  },
  {
   "cell_type": "code",
   "execution_count": 59,
   "id": "e5e195cb",
   "metadata": {},
   "outputs": [
    {
     "data": {
      "text/plain": [
       "['PI0483',\n",
       " 'PI0392',\n",
       " 'PI0024',\n",
       " 'PI0297',\n",
       " 'PI0573',\n",
       " 'PI0168',\n",
       " 'PI0223',\n",
       " 'PI0184',\n",
       " 'PI0502',\n",
       " 'PI0589',\n",
       " 'PI0563']"
      ]
     },
     "execution_count": 59,
     "metadata": {},
     "output_type": "execute_result"
    }
   ],
   "source": [
    "collaborative_recommender('PI0192')"
   ]
  },
  {
   "cell_type": "code",
   "execution_count": 60,
   "id": "bf355622",
   "metadata": {},
   "outputs": [
    {
     "name": "stdout",
     "output_type": "stream",
     "text": [
      "OnePlus 13\n",
      "Samsung Galaxy S25 Edge\n",
      "iPhone 16 Pro\n"
     ]
    }
   ],
   "source": [
    "recommender(\"iPhone 16\")"
   ]
  },
  {
   "cell_type": "code",
   "execution_count": 61,
   "id": "8a36b152",
   "metadata": {},
   "outputs": [
    {
     "name": "stdout",
     "output_type": "stream",
     "text": [
      "595\n"
     ]
    }
   ],
   "source": [
    "index=np.where(pt.index=='iPhone 16')[0][0]\n",
    "print(index)"
   ]
  },
  {
   "cell_type": "code",
   "execution_count": 62,
   "id": "a3ddc989",
   "metadata": {},
   "outputs": [
    {
     "data": {
      "text/plain": [
       "'iPhone 16'"
      ]
     },
     "execution_count": 62,
     "metadata": {},
     "output_type": "execute_result"
    }
   ],
   "source": [
    "pt.index[595]"
   ]
  },
  {
   "cell_type": "code",
   "execution_count": 63,
   "id": "b18f4dc3",
   "metadata": {},
   "outputs": [
    {
     "name": "stdout",
     "output_type": "stream",
     "text": [
      "iPhone 16 Pro Max\n",
      "iPhone 16\n",
      "Redmi Note 14 Pro\n",
      "Realme 13 Pro Plus\n",
      "Samsung Galaxy S25\n",
      "iPhone 14 (variant)\n",
      "OnePlus Nord 30 5G\n"
     ]
    }
   ],
   "source": [
    "recommender(\"Samsung Galaxy S25 Edge\")"
   ]
  },
  {
   "cell_type": "code",
   "execution_count": 64,
   "id": "54216eb3",
   "metadata": {},
   "outputs": [
    {
     "name": "stdout",
     "output_type": "stream",
     "text": [
      "Urban Ladder Docksta Round Dining Table (White/Black top)\n",
      "Godrej Interio Vertex Round Dining Table\n",
      "IKEA BILLY Bookcase as Side Table (DIY combo)\n",
      "AmazonBasics Adjustable Height Laptop Table\n",
      "Home Centre Valencia Coffee Table (Glass top)\n",
      "IKEA DOKKSTA Swivel Table (Pedestal, white)\n",
      "AmazonBasics Round Folding Table (Outdoor/Indoor)\n"
     ]
    }
   ],
   "source": [
    "recommender('IKEA GLADOM Tray Table (Rolling)')"
   ]
  },
  {
   "cell_type": "code",
   "execution_count": 65,
   "id": "5cf68d6c",
   "metadata": {},
   "outputs": [],
   "source": [
    "similarity_scores[458]\n",
    "similar_items= sorted(list(enumerate(similarity_scores[0])),key=lambda x:x[1],reverse=True )[1:6]"
   ]
  },
  {
   "cell_type": "code",
   "execution_count": 66,
   "id": "94c9df25",
   "metadata": {},
   "outputs": [
    {
     "name": "stdout",
     "output_type": "stream",
     "text": [
      "Vivo T2 Pro\n",
      "Samsung Galaxy S25 Edge\n"
     ]
    }
   ],
   "source": [
    "recommender('iPhone 16 Pro Max')"
   ]
  },
  {
   "cell_type": "code",
   "execution_count": 67,
   "id": "89706a72",
   "metadata": {},
   "outputs": [
    {
     "data": {
      "text/plain": [
       "'Beauty'"
      ]
     },
     "execution_count": 67,
     "metadata": {},
     "output_type": "execute_result"
    }
   ],
   "source": [
    "df['category'][43].split()[0]"
   ]
  },
  {
   "cell_type": "code",
   "execution_count": 68,
   "id": "6d48997e",
   "metadata": {},
   "outputs": [
    {
     "data": {
      "text/plain": [
       "'Home'"
      ]
     },
     "execution_count": 68,
     "metadata": {},
     "output_type": "execute_result"
    }
   ],
   "source": [
    "a='Home > Tables'\n",
    "a.split()[0]"
   ]
  },
  {
   "cell_type": "code",
   "execution_count": 69,
   "id": "f1d3d79a",
   "metadata": {},
   "outputs": [
    {
     "data": {
      "text/plain": [
       "'AmazonBasics Rectangular Dining Table (Metal & MDF)'"
      ]
     },
     "execution_count": 69,
     "metadata": {},
     "output_type": "execute_result"
    }
   ],
   "source": [
    "pt.index[24]"
   ]
  },
  {
   "cell_type": "code",
   "execution_count": 70,
   "id": "2f296a3b",
   "metadata": {},
   "outputs": [
    {
     "data": {
      "text/plain": [
       "'Godrej Interio Pangram Fabric 3 Seater Sofa'"
      ]
     },
     "execution_count": 70,
     "metadata": {},
     "output_type": "execute_result"
    }
   ],
   "source": [
    "df['product_name'][24]"
   ]
  },
  {
   "cell_type": "code",
   "execution_count": 71,
   "id": "bf34ef29",
   "metadata": {},
   "outputs": [
    {
     "data": {
      "text/plain": [
       "'PI0019'"
      ]
     },
     "execution_count": 71,
     "metadata": {},
     "output_type": "execute_result"
    }
   ],
   "source": [
    "df['product_id'][24]"
   ]
  },
  {
   "cell_type": "code",
   "execution_count": 72,
   "id": "963b232f",
   "metadata": {},
   "outputs": [
    {
     "data": {
      "text/plain": [
       "(array([  814,   815,  2202,  2203,  2735,  2736,  3655,  3656,  4620,\n",
       "         4621,  4672,  4673,  4804,  4805,  4938,  4939,  5062,  5063,\n",
       "         5689,  5690,  7156,  7157,  7159,  7160,  7218,  7219,  7793,\n",
       "         7794,  9233,  9234, 10828, 10829], dtype=int64),)"
      ]
     },
     "execution_count": 72,
     "metadata": {},
     "output_type": "execute_result"
    }
   ],
   "source": [
    "np.where(df['product_name']=='AmazonBasics Rectangular Dining Table (Metal & MDF)')"
   ]
  },
  {
   "cell_type": "code",
   "execution_count": 73,
   "id": "3da267c6",
   "metadata": {},
   "outputs": [
    {
     "data": {
      "text/plain": [
       "'Home'"
      ]
     },
     "execution_count": 73,
     "metadata": {},
     "output_type": "execute_result"
    }
   ],
   "source": [
    "df[df['product_name'] == 'Godrej Interio Pangram Fabric 3 Seater Sofa']['category'].iloc[0].split()[0]"
   ]
  },
  {
   "cell_type": "code",
   "execution_count": 74,
   "id": "70005a2c",
   "metadata": {},
   "outputs": [],
   "source": [
    "import pickle "
   ]
  },
  {
   "cell_type": "code",
   "execution_count": 75,
   "id": "e85e5286",
   "metadata": {},
   "outputs": [],
   "source": [
    "pickle.dump(pt,open('pt.pkl','wb'))\n",
    "#pickle.dump(books,open('books.pkl','wb'))\n",
    "pickle.dump(similarity_scores,open('similarity_scores.pkl','wb'))"
   ]
  },
  {
   "cell_type": "code",
   "execution_count": 76,
   "id": "803a66c3",
   "metadata": {},
   "outputs": [],
   "source": [
    "pickle.dump(req_df,open('clean_data.pkl','wb'))"
   ]
  },
  {
   "cell_type": "code",
   "execution_count": 77,
   "id": "dd6aaae6",
   "metadata": {},
   "outputs": [
    {
     "name": "stdout",
     "output_type": "stream",
     "text": [
      "OnePlus 13\n",
      "Samsung Galaxy S25 Edge\n",
      "iPhone 16 Pro\n"
     ]
    }
   ],
   "source": [
    "recommender('iPhone 16')"
   ]
  },
  {
   "cell_type": "code",
   "execution_count": 78,
   "id": "234aa9b6",
   "metadata": {},
   "outputs": [
    {
     "data": {
      "text/plain": [
       "['PI0483',\n",
       " 'PI0392',\n",
       " 'PI0024',\n",
       " 'PI0297',\n",
       " 'PI0573',\n",
       " 'PI0168',\n",
       " 'PI0223',\n",
       " 'PI0184',\n",
       " 'PI0502',\n",
       " 'PI0589',\n",
       " 'PI0563']"
      ]
     },
     "execution_count": 78,
     "metadata": {},
     "output_type": "execute_result"
    }
   ],
   "source": [
    "collaborative_recommender('PI0192')"
   ]
  },
  {
   "cell_type": "code",
   "execution_count": 79,
   "id": "a8825c7f",
   "metadata": {},
   "outputs": [
    {
     "data": {
      "text/plain": [
       "'OnePlus 13'"
      ]
     },
     "execution_count": 79,
     "metadata": {},
     "output_type": "execute_result"
    }
   ],
   "source": [
    "product_id='PI0223'\n",
    "item_name=df[df['product_id'] == product_id]['product_name'].iloc[0]\n",
    "item_name"
   ]
  },
  {
   "cell_type": "code",
   "execution_count": null,
   "id": "664eb868",
   "metadata": {},
   "outputs": [],
   "source": []
  }
 ],
 "metadata": {
  "kernelspec": {
   "display_name": "venv",
   "language": "python",
   "name": "python3"
  },
  "language_info": {
   "codemirror_mode": {
    "name": "ipython",
    "version": 3
   },
   "file_extension": ".py",
   "mimetype": "text/x-python",
   "name": "python",
   "nbconvert_exporter": "python",
   "pygments_lexer": "ipython3",
   "version": "3.10.0"
  }
 },
 "nbformat": 4,
 "nbformat_minor": 5
}
